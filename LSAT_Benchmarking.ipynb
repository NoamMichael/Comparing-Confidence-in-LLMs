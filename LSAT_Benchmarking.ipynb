{
  "nbformat": 4,
  "nbformat_minor": 0,
  "metadata": {
    "colab": {
      "provenance": [],
      "machine_shape": "hm",
      "gpuType": "A100",
      "authorship_tag": "ABX9TyNJ61jEpOLQfymoBhpSGAhq",
      "include_colab_link": true
    },
    "kernelspec": {
      "name": "python3",
      "display_name": "Python 3"
    },
    "language_info": {
      "name": "python"
    },
    "accelerator": "GPU"
  },
  "cells": [
    {
      "cell_type": "markdown",
      "metadata": {
        "id": "view-in-github",
        "colab_type": "text"
      },
      "source": [
        "<a href=\"https://colab.research.google.com/github/NoamMichael/Comparing-Confidence-in-LLMs/blob/main/LSAT_Benchmarking.ipynb\" target=\"_parent\"><img src=\"https://colab.research.google.com/assets/colab-badge.svg\" alt=\"Open In Colab\"/></a>"
      ]
    },
    {
      "cell_type": "code",
      "execution_count": null,
      "metadata": {
        "id": "WuTZXLzGAGkZ"
      },
      "outputs": [],
      "source": [
        "# This Notebook will test all models on the formatted LSAT-AR dataset"
      ]
    },
    {
      "cell_type": "code",
      "source": [
        "import pandas as pd\n",
        "import numpy as np\n",
        "import json\n",
        "import time\n",
        "import random\n",
        "import torch\n",
        "import matplotlib.pyplot as plt\n",
        "from transformers import (AutoTokenizer,\n",
        "                        AutoModelForCausalLM,\n",
        "                        BitsAndBytesConfig,\n",
        "                        pipeline)\n",
        "import warnings\n",
        "warnings.filterwarnings('ignore')\n",
        "from google.colab import userdata\n",
        "hf_llama_token = userdata.get('hf_llama_token')\n",
        "\n",
        "class OpenModel: ## This class is built around Hugging Face methods\n",
        "  def __init__(self, name, key, MaxTokens = 150):\n",
        "    self.name = name\n",
        "    self.key = key\n",
        "    self.MaxTokens = MaxTokens\n",
        "    self.tokenizer = AutoTokenizer.from_pretrained(self.name,token = self.key) ## Import Tokenizer\n",
        "    self.model = AutoModelForCausalLM.from_pretrained(self.name, token = self.key, device_map=\"auto\") ## Import Model\n",
        "\n",
        "    ## Make text generation pipeline\n",
        "    self.pipeline = pipeline(\n",
        "    \"text-generation\",\n",
        "    model = self.model,\n",
        "    tokenizer = self.tokenizer,\n",
        "    do_sample = False,\n",
        "    max_new_tokens = self.MaxTokens,\n",
        "    eos_token_id = self.tokenizer.eos_token_id,\n",
        "    pad_token_id = self.tokenizer.eos_token_id\n",
        "    )\n",
        "\n",
        "  def generate(self, prompt):\n",
        "    return self.pipeline(prompt)[0]['generated_text']\n",
        "\n",
        "  def GetTokens(self, prompt: str):\n",
        "    ## Get Answer:\n",
        "    batch = self.tokenizer(prompt, return_tensors= \"pt\").to('cuda')\n",
        "    with torch.no_grad():\n",
        "        outputs = self.model(**batch)\n",
        "    ## Get Token Probabilites\n",
        "    logits = outputs.logits\n",
        "\n",
        "    # Apply softmax to the logits to get probabilities\n",
        "    probs = torch.softmax(logits[0, -1], dim=0)\n",
        "    #print(probs)\n",
        "    #_____________________________________________________\n",
        "\n",
        "    # Get the top k token indices and their probabilities\n",
        "    top_k_probs, top_k_indices = torch.topk(probs, 100, sorted =True)\n",
        "\n",
        "    # Convert token indices to tokens\n",
        "    # Use self.tokenizer\n",
        "    top_k_tokens = [self.tokenizer.decode([token_id]) for token_id in top_k_indices]\n",
        "\n",
        "    # Convert probabilities to list of floats\n",
        "    top_k_probs = top_k_probs.tolist()                  #list of probabilities\n",
        "\n",
        "    # Create a Pandas Series with tokens as index and probabilities as values\n",
        "    logit_series = pd.Series(top_k_probs, index=top_k_tokens)\n",
        "\n",
        "    # Sort the series by values in descending order\n",
        "    logit_series = logit_series.sort_values(ascending=False)\n",
        "    logit_series.index.name = \"Token\"\n",
        "    logit_series.name = \"Probability\"\n",
        "    return logit_series"
      ],
      "metadata": {
        "id": "ZqNsBM1oBHmp"
      },
      "execution_count": null,
      "outputs": []
    },
    {
      "cell_type": "code",
      "source": [
        "test_name = 'meta-llama/Llama-3.1-8B-Instruct'\n",
        "test_key = hf_llama_token\n",
        "test_prompt = \"Zdzisław Beksiński was\"\n",
        "\n",
        "test_model = OpenModel(name = test_name, key = test_key)"
      ],
      "metadata": {
        "id": "sA1Rq7e6HlTm"
      },
      "execution_count": null,
      "outputs": []
    },
    {
      "cell_type": "code",
      "source": [
        "print(test_model.generate(test_prompt))\n",
        "test_model.GetTokens(test_prompt)"
      ],
      "metadata": {
        "id": "H-bj6Bn9HsSF",
        "collapsed": true
      },
      "execution_count": null,
      "outputs": []
    },
    {
      "source": [
        "## GPT pseudocode\n",
        "\n",
        "from abc import ABC, abstractmethod\n",
        "\n",
        "# Step 1: Define a base class for your LLM wrappers\n",
        "class LLMWrapper(ABC):\n",
        "    @abstractmethod\n",
        "    def generate_response(self, prompt: str) -> str:\n",
        "        \"\"\"\n",
        "        Abstract method to generate a response from the language model.\n",
        "        \"\"\"\n",
        "        pass\n",
        "\n",
        "# Step 2: Create subclasses for each LLM\n",
        "class APIModelWrapper(LLMWrapper):\n",
        "    def __init__(self, api_key):\n",
        "        self.api_key = api_key\n",
        "        # Initialize your API client here\n",
        "\n",
        "    def generate_response(self, prompt: str) -> str:\n",
        "        # Implement the logic for making API calls to your model\n",
        "        # Use self.api_key for authentication if needed\n",
        "        print(f\"Calling API model with prompt: {prompt}\")\n",
        "        return \"Response from API model\" # Replace with actual API call\n",
        "\n",
        "class HuggingFaceModelWrapper(LLMWrapper):\n",
        "    def __init__(self, model_name):\n",
        "        self.model_name = model_name\n",
        "        # Load your Hugging Face model and tokenizer here\n",
        "        # You might need to install the 'transformers' and 'torch' libraries\n",
        "        # pip install transformers torch\n",
        "        print(f\"Loading Hugging Face model: {model_name}\")\n",
        "        # Example: from transformers import pipeline\n",
        "        # self.generator = pipeline('text-generation', model=model_name)\n",
        "\n",
        "    def generate_response(self, prompt: str) -> str:\n",
        "        # Implement the logic for generating responses using the Hugging Face model\n",
        "        print(f\"Calling Hugging Face model with prompt: {prompt}\")\n",
        "        # Example: result = self.generator(prompt)\n",
        "        return \"Response from Hugging Face model\" # Replace with actual generation\n",
        "\n",
        "# Example of adding another model type\n",
        "class AnotherModelWrapper(LLMWrapper):\n",
        "    def __init__(self, config):\n",
        "        self.config = config\n",
        "        # Initialize your other model here\n",
        "\n",
        "    def generate_response(self, prompt: str) -> str:\n",
        "        # Implement the logic for generating responses with this model\n",
        "        print(f\"Calling another model with prompt: {prompt}\")\n",
        "        return \"Response from another model\" # Replace with actual generation\n",
        "\n",
        "# Step 3: Instantiate your models\n",
        "models_to_test = [\n",
        "    APIModelWrapper(api_key=\"your_api_key\"),\n",
        "    HuggingFaceModelWrapper(model_name=\"gpt2\"), # Replace with your desired HF model\n",
        "    AnotherModelWrapper(config={\"setting\": \"value\"})\n",
        "]\n",
        "\n",
        "# Step 4: Iterate and test\n",
        "# Replace with your actual dataset loading logic\n",
        "dataset = [\"Prompt 1\", \"Prompt 2\", \"Prompt 3\"]\n",
        "\n",
        "for prompt in dataset:\n",
        "    print(f\"\\nTesting prompt: {prompt}\")\n",
        "    for model in models_to_test:\n",
        "        response = model.generate_response(prompt)\n",
        "        print(f\"Model: {type(model).__name__}, Response: {response}\")"
      ],
      "cell_type": "code",
      "metadata": {
        "id": "Lh9bJZJVE2Sc"
      },
      "execution_count": null,
      "outputs": []
    }
  ]
}