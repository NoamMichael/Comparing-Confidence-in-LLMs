{
 "cells": [
  {
   "cell_type": "markdown",
   "id": "c815e468",
   "metadata": {},
   "source": [
    "# Retrieve and Parse Model Responses"
   ]
  },
  {
   "cell_type": "code",
   "execution_count": null,
   "id": "3ac5c575",
   "metadata": {},
   "outputs": [],
   "source": [
    "import json\n",
    "file_path = 'results_metadata.json'\n",
    "with open(file_path, 'r') as file:\n",
    "    # Load the JSON data from the file into a Python dictionary\n",
    "    metadata = json.load(file)\n",
    "\n",
    "metadata"
   ]
  },
  {
   "cell_type": "markdown",
   "id": "d8c288a9",
   "metadata": {},
   "source": [
    "# Retrieve Batch Responses"
   ]
  },
  {
   "cell_type": "markdown",
   "id": "75a436f4",
   "metadata": {},
   "source": [
    "## Gemini"
   ]
  },
  {
   "cell_type": "markdown",
   "id": "7427db85",
   "metadata": {},
   "source": [
    "### Initialize"
   ]
  },
  {
   "cell_type": "code",
   "execution_count": 1,
   "id": "be400991",
   "metadata": {},
   "outputs": [
    {
     "name": "stdout",
     "output_type": "stream",
     "text": [
      "Note: you may need to restart the kernel to use updated packages.\n"
     ]
    },
    {
     "name": "stderr",
     "output_type": "stream",
     "text": [
      "  WARNING: Failed to remove contents in a temporary directory 'C:\\Programs\\Lib\\site-packages\\~ydantic'.\n",
      "  You can safely remove it manually.\n",
      "ERROR: pip's dependency resolver does not currently take into account all the packages that are installed. This behaviour is the source of the following dependency conflicts.\n",
      "langchain 0.2.5 requires tenacity<9.0.0,>=8.1.0, but you have tenacity 9.1.2 which is incompatible.\n",
      "langchain-community 0.2.5 requires tenacity<9.0.0,>=8.1.0, but you have tenacity 9.1.2 which is incompatible.\n",
      "langchain-core 0.2.9 requires tenacity!=8.4.0,<9.0.0,>=8.1.0, but you have tenacity 9.1.2 which is incompatible.\n",
      "ollama 0.2.1 requires httpx<0.28.0,>=0.27.0, but you have httpx 0.28.1 which is incompatible.\n",
      "streamlit 1.30.0 requires packaging<24,>=16.8, but you have packaging 24.1 which is incompatible.\n",
      "streamlit 1.30.0 requires tenacity<9,>=8.1.0, but you have tenacity 9.1.2 which is incompatible.\n",
      "\n",
      "[notice] A new release of pip is available: 24.3.1 -> 25.2\n",
      "[notice] To update, run: python.exe -m pip install --upgrade pip\n"
     ]
    }
   ],
   "source": [
    "%pip install -q -U \"google-genai>=1.0.0\""
   ]
  },
  {
   "cell_type": "code",
   "execution_count": 75,
   "id": "e53ac4f7",
   "metadata": {},
   "outputs": [],
   "source": [
    "import os\n",
    "from google import genai\n",
    "from google.genai import types\n",
    "\n",
    "key = os.getenv(\"GOOGLE_API_KEY\")\n",
    "client = genai.Client(api_key=key,http_options={'api_version': 'v1alpha'})"
   ]
  },
  {
   "cell_type": "markdown",
   "id": "0b9364ea",
   "metadata": {},
   "source": [
    "### Save Results"
   ]
  },
  {
   "cell_type": "code",
   "execution_count": 76,
   "id": "6b92a1c9",
   "metadata": {},
   "outputs": [],
   "source": [
    "def save_job_content(batch_job, model_name, dataset_name):\n",
    "    if batch_job.state.name == 'JOB_STATE_SUCCEEDED':\n",
    "        result_file_name = batch_job.dest.file_name\n",
    "        print(f\"         Results are in file: {result_file_name}\")\n",
    "\n",
    "        print(\"         Downloading and saving result file content...\")\n",
    "        file_content_bytes = client.files.download(file=result_file_name)\n",
    "        file_content = file_content_bytes.decode('utf-8')\n",
    "\n",
    "        # Create model-specific folder\n",
    "        folder_name = 'Raw Results/Gemini/' + model_name.replace(\".\", \"-\")\n",
    "        os.makedirs(folder_name, exist_ok=True)\n",
    "        \n",
    "        # Define save path\n",
    "        save_path = os.path.join(folder_name, f\"{dataset_name}_{model_name}.json\")\n",
    "\n",
    "        # Parse JSONL into a list of objects\n",
    "        all_results = []\n",
    "        for line in file_content.splitlines():\n",
    "            if line:\n",
    "                parsed_response = json.loads(line)\n",
    "                all_results.append(parsed_response)\n",
    "\n",
    "        # Save as JSON\n",
    "        with open(save_path, \"w\") as f:\n",
    "            json.dump(all_results, f, indent=2)\n",
    "\n",
    "        print(f\"        ✅ Saved results to {save_path}\")\n",
    "\n",
    "    else:\n",
    "        print(f\"Job did not succeed. Final state: {batch_job.state.name}\")\n"
   ]
  },
  {
   "cell_type": "code",
   "execution_count": 77,
   "id": "c223df33",
   "metadata": {},
   "outputs": [
    {
     "name": "stdout",
     "output_type": "stream",
     "text": [
      "boolq_valid:\n",
      "    gemini-2.5-pro:   batches/40v60ylnpg26z17kst8c2tjbpb5lmrhn9rrf\n",
      "         Results are in file: files/batch-40v60ylnpg26z17kst8c2tjbpb5lmrhn9rrf\n",
      "         Downloading and saving result file content...\n",
      "        ✅ Saved results to Raw Results/Gemini/gemini-2-5-pro\\boolq_valid_gemini-2.5-pro.json\n",
      "    gemini-2.5-flash:   batches/b6oo1vivedngmdlk1ahnluu326o9x81b9vci\n",
      "         Results are in file: files/batch-b6oo1vivedngmdlk1ahnluu326o9x81b9vci\n",
      "         Downloading and saving result file content...\n",
      "        ✅ Saved results to Raw Results/Gemini/gemini-2-5-flash\\boolq_valid_gemini-2.5-flash.json\n",
      "\n",
      "lsat_ar_test:\n",
      "    gemini-2.5-pro:   batches/sklakmhs91rg1lcir2gbufjoewm4lharjbdz\n",
      "         Results are in file: files/batch-sklakmhs91rg1lcir2gbufjoewm4lharjbdz\n",
      "         Downloading and saving result file content...\n",
      "        ✅ Saved results to Raw Results/Gemini/gemini-2-5-pro\\lsat_ar_test_gemini-2.5-pro.json\n",
      "    gemini-2.5-flash:   batches/r1o5lbc3p95sfgnu8zy3obihdhw17evmdo6x\n",
      "         Results are in file: files/batch-r1o5lbc3p95sfgnu8zy3obihdhw17evmdo6x\n",
      "         Downloading and saving result file content...\n",
      "        ✅ Saved results to Raw Results/Gemini/gemini-2-5-flash\\lsat_ar_test_gemini-2.5-flash.json\n",
      "\n",
      "sciq_test:\n",
      "    gemini-2.5-pro:   batches/ue71cdsj5hux192eiyeirffxftez46gd6i45\n",
      "         Results are in file: files/batch-ue71cdsj5hux192eiyeirffxftez46gd6i45\n",
      "         Downloading and saving result file content...\n",
      "        ✅ Saved results to Raw Results/Gemini/gemini-2-5-pro\\sciq_test_gemini-2.5-pro.json\n",
      "    gemini-2.5-flash:   batches/ebruycmouec3u7vpwomza78dsizo2w0he0hh\n",
      "         Results are in file: files/batch-ebruycmouec3u7vpwomza78dsizo2w0he0hh\n",
      "         Downloading and saving result file content...\n",
      "        ✅ Saved results to Raw Results/Gemini/gemini-2-5-flash\\sciq_test_gemini-2.5-flash.json\n",
      "\n",
      "life_eval:\n",
      "    gemini-2.5-pro:   batches/f7uyql7q0dw6qwiojyke77mvl7ojvnok8fpz\n",
      "         Results are in file: files/batch-f7uyql7q0dw6qwiojyke77mvl7ojvnok8fpz\n",
      "         Downloading and saving result file content...\n",
      "        ✅ Saved results to Raw Results/Gemini/gemini-2-5-pro\\life_eval_gemini-2.5-pro.json\n",
      "    gemini-2.5-flash:   batches/n2yvk8gwdivrlls86y7nfik57frg445qow54\n",
      "         Results are in file: files/batch-n2yvk8gwdivrlls86y7nfik57frg445qow54\n",
      "         Downloading and saving result file content...\n",
      "        ✅ Saved results to Raw Results/Gemini/gemini-2-5-flash\\life_eval_gemini-2.5-flash.json\n",
      "\n",
      "halu_eval_qa:\n",
      "    gemini-2.5-pro:   batches/dnxouw980f6m1h1lcocwjqstk44d0oyo6s7h\n",
      "         Results are in file: files/batch-dnxouw980f6m1h1lcocwjqstk44d0oyo6s7h\n",
      "         Downloading and saving result file content...\n",
      "        ✅ Saved results to Raw Results/Gemini/gemini-2-5-pro\\halu_eval_qa_gemini-2.5-pro.json\n",
      "    gemini-2.5-flash:   batches/8km4am6rz0t3lawv24estzewea9i1g1n148e\n",
      "         Results are in file: files/batch-8km4am6rz0t3lawv24estzewea9i1g1n148e\n",
      "         Downloading and saving result file content...\n",
      "        ✅ Saved results to Raw Results/Gemini/gemini-2-5-flash\\halu_eval_qa_gemini-2.5-flash.json\n",
      "\n",
      "sat_en:\n",
      "    gemini-2.5-pro:   batches/n5s6s4h9le8cm5ralygqzurxe5pe11y3jiiz\n",
      "         Results are in file: files/batch-n5s6s4h9le8cm5ralygqzurxe5pe11y3jiiz\n",
      "         Downloading and saving result file content...\n",
      "        ✅ Saved results to Raw Results/Gemini/gemini-2-5-pro\\sat_en_gemini-2.5-pro.json\n",
      "    gemini-2.5-flash:   batches/feu6m5zitwtod4x3iqo12jmux7yuizm9xhaf\n",
      "         Results are in file: files/batch-feu6m5zitwtod4x3iqo12jmux7yuizm9xhaf\n",
      "         Downloading and saving result file content...\n",
      "        ✅ Saved results to Raw Results/Gemini/gemini-2-5-flash\\sat_en_gemini-2.5-flash.json\n",
      "\n"
     ]
    }
   ],
   "source": [
    "gem_models = [\"gemini-2.5-flash\", \"gemini-2.5-pro\"]\n",
    "\n",
    "for dataset_name, dataset_info in metadata.items():\n",
    "    model_info = dataset_info['models']\n",
    "    print(f\"{dataset_name}:\")\n",
    "    for model_name, model_data in model_info.items():\n",
    "        if model_name in gem_models:\n",
    "            model_batch = model_data['batch_id']\n",
    "            print(f'    {model_name}:   {model_batch}')\n",
    "            batch_job = client.batches.get(name=model_batch)\n",
    "            save_job_content(batch_job, model_name, dataset_name)\n",
    "            key = f\"{dataset_name}_{model_name}.json\"\n",
    "            model_info[model_name]['output_filename'] = key\n",
    "\n",
    "    print()"
   ]
  },
  {
   "cell_type": "markdown",
   "id": "9654eab6",
   "metadata": {},
   "source": [
    "## ChatGPT"
   ]
  },
  {
   "cell_type": "markdown",
   "id": "4e6bb74b",
   "metadata": {},
   "source": [
    "### Initialize"
   ]
  },
  {
   "cell_type": "code",
   "execution_count": null,
   "id": "0a1e96ce",
   "metadata": {},
   "outputs": [],
   "source": [
    "%pip install -U openai"
   ]
  },
  {
   "cell_type": "code",
   "execution_count": 78,
   "id": "c8b1810f",
   "metadata": {},
   "outputs": [],
   "source": [
    "from openai import OpenAI\n",
    "key = os.getenv(\"OPENAI_API_KEY\")\n",
    "client = OpenAI(api_key = key)"
   ]
  },
  {
   "cell_type": "markdown",
   "id": "ae8afc48",
   "metadata": {},
   "source": [
    "### Get Responses"
   ]
  },
  {
   "cell_type": "code",
   "execution_count": 80,
   "id": "74c7e8ed",
   "metadata": {},
   "outputs": [],
   "source": [
    "def save_job_content(batch_job, model_name, dataset_name):\n",
    "    folder_name = 'Raw Results/GPT/' + model_name.replace(\".\", \"-\")\n",
    "    os.makedirs(folder_name, exist_ok=True)\n",
    "    status = batch_job.status\n",
    "\n",
    "    if status == 'completed':\n",
    "        output_file_id = batch_job.output_file_id\n",
    "        resp = client.files.content(output_file_id)\n",
    "        text = getattr(resp, \"text\", None) or resp.content.decode(\"utf-8\")\n",
    "        print(f'        OutputFile ID: {output_file_id}')\n",
    "\n",
    "        # Save output as a JSONL\n",
    "        file_name = f\"{dataset_name}_{model_name}.jsonl\"\n",
    "        save_path = os.path.join(folder_name, file_name)\n",
    "        with open(save_path, \"w\", encoding=\"utf-8\") as f:\n",
    "            f.write(text if text.endswith(\"\\n\") else text + \"\\n\")\n",
    "    else:\n",
    "        print(f\"Job did not succeed. Final state: {status}\")\n",
    "    \n"
   ]
  },
  {
   "cell_type": "code",
   "execution_count": 81,
   "id": "dde92ba1",
   "metadata": {},
   "outputs": [
    {
     "name": "stdout",
     "output_type": "stream",
     "text": [
      "boolq_valid:\n",
      "    gpt-4o:   batch_68885a713de48190b5c616795507d7f4\n",
      "        OutputFile ID: file-7cT9kMESsjkHeAweoJ6G3M\n",
      "\n",
      "lsat_ar_test:\n",
      "    gpt-4o:   batch_6882b9edb8888190a7273726ffd6f3ba\n",
      "        OutputFile ID: file-BDcxDoD6Y8SNEVWGeTUz61\n",
      "\n",
      "sciq_test:\n",
      "    gpt-4o:   batch_6882b9f6ed908190ab2f6acea76f3b12\n",
      "        OutputFile ID: file-EFXvvbpomZvVecmLByHHz7\n",
      "\n",
      "life_eval:\n",
      "    gpt-4o:   batch_6882b9ec28508190b161285d2f77395d\n",
      "        OutputFile ID: file-CqJyuePrsh2LByvkUCdhry\n",
      "\n",
      "halu_eval_qa:\n",
      "    gpt-4o:   batch_68885dc2a5988190b9a1bb1e6e75c0d7\n",
      "        OutputFile ID: file-Xoz5tg27geR2dcEMELD3QH\n",
      "\n",
      "sat_en:\n",
      "    gpt-4o:   batch_6882b9f307888190ac4769c47dac1eda\n",
      "        OutputFile ID: file-Y9Pbosz7ZRXjtE7aw8Qysy\n",
      "\n"
     ]
    }
   ],
   "source": [
    "openai_models = [\"gpt-4o\"]\n",
    "\n",
    "for dataset_name, dataset_info in metadata.items():\n",
    "\n",
    "    model_info = dataset_info['models']\n",
    "    print(f\"{dataset_name}:\")\n",
    "    \n",
    "    for model_name, model_data in model_info.items():\n",
    "\n",
    "        if model_name in openai_models:\n",
    "\n",
    "            model_batch = model_data['batch_id']\n",
    "            print(f'    {model_name}:   {model_batch}')\n",
    "\n",
    "            batch = client.batches.retrieve(model_batch)\n",
    "            save_job_content(batch, model_name, dataset_name)\n",
    "            key = f\"{dataset_name}_{model_name}.json\"\n",
    "            model_info[model_name]['output_filename'] = key\n",
    "    print()"
   ]
  },
  {
   "cell_type": "markdown",
   "id": "d04d6801",
   "metadata": {},
   "source": [
    "## Claude"
   ]
  },
  {
   "cell_type": "markdown",
   "id": "05dffd12",
   "metadata": {},
   "source": [
    "### Initialize"
   ]
  },
  {
   "cell_type": "code",
   "execution_count": 49,
   "id": "82be383f",
   "metadata": {},
   "outputs": [
    {
     "name": "stdout",
     "output_type": "stream",
     "text": [
      "Requirement already satisfied: pip in c:\\programs\\lib\\site-packages (24.3.1)\n",
      "Collecting pip\n",
      "  Downloading pip-25.2-py3-none-any.whl.metadata (4.7 kB)\n",
      "Collecting Anthropic\n",
      "  Downloading anthropic-0.62.0-py3-none-any.whl.metadata (27 kB)\n",
      "Requirement already satisfied: anyio<5,>=3.5.0 in c:\\programs\\lib\\site-packages (from Anthropic) (4.10.0)\n",
      "Requirement already satisfied: distro<2,>=1.7.0 in c:\\programs\\lib\\site-packages (from Anthropic) (1.8.0)\n",
      "Requirement already satisfied: httpx<1,>=0.25.0 in c:\\programs\\lib\\site-packages (from Anthropic) (0.28.1)\n",
      "Requirement already satisfied: jiter<1,>=0.4.0 in c:\\programs\\lib\\site-packages (from Anthropic) (0.10.0)\n",
      "Requirement already satisfied: pydantic<3,>=1.9.0 in c:\\programs\\lib\\site-packages (from Anthropic) (2.11.7)\n",
      "Requirement already satisfied: sniffio in c:\\programs\\lib\\site-packages (from Anthropic) (1.3.0)\n",
      "Requirement already satisfied: typing-extensions<5,>=4.10 in c:\\programs\\lib\\site-packages (from Anthropic) (4.12.2)\n",
      "Requirement already satisfied: idna>=2.8 in c:\\programs\\lib\\site-packages (from anyio<5,>=3.5.0->Anthropic) (3.4)\n",
      "Requirement already satisfied: certifi in c:\\programs\\lib\\site-packages (from httpx<1,>=0.25.0->Anthropic) (2024.2.2)\n",
      "Requirement already satisfied: httpcore==1.* in c:\\programs\\lib\\site-packages (from httpx<1,>=0.25.0->Anthropic) (1.0.2)\n",
      "Requirement already satisfied: h11<0.15,>=0.13 in c:\\programs\\lib\\site-packages (from httpcore==1.*->httpx<1,>=0.25.0->Anthropic) (0.14.0)\n",
      "Requirement already satisfied: annotated-types>=0.6.0 in c:\\programs\\lib\\site-packages (from pydantic<3,>=1.9.0->Anthropic) (0.7.0)\n",
      "Requirement already satisfied: pydantic-core==2.33.2 in c:\\programs\\lib\\site-packages (from pydantic<3,>=1.9.0->Anthropic) (2.33.2)\n",
      "Requirement already satisfied: typing-inspection>=0.4.0 in c:\\programs\\lib\\site-packages (from pydantic<3,>=1.9.0->Anthropic) (0.4.1)\n",
      "Downloading pip-25.2-py3-none-any.whl (1.8 MB)\n",
      "   ---------------------------------------- 0.0/1.8 MB ? eta -:--:--\n",
      "   ---------------------------------------- 1.8/1.8 MB 19.1 MB/s eta 0:00:00\n",
      "Downloading anthropic-0.62.0-py3-none-any.whl (296 kB)\n",
      "Installing collected packages: pip, Anthropic\n",
      "  Attempting uninstall: pip\n",
      "    Found existing installation: pip 24.3.1\n",
      "    Uninstalling pip-24.3.1:\n",
      "      Successfully uninstalled pip-24.3.1\n",
      "Successfully installed Anthropic-0.62.0 pip-25.2\n",
      "Note: you may need to restart the kernel to use updated packages.\n"
     ]
    }
   ],
   "source": [
    "%pip install -U pip -U Anthropic"
   ]
  },
  {
   "cell_type": "code",
   "execution_count": 82,
   "id": "c8914cde",
   "metadata": {},
   "outputs": [],
   "source": [
    "import anthropic\n",
    "from anthropic import Anthropic, AsyncAnthropic, APIError\n",
    "\n",
    "key = os.getenv(\"ANTHROPIC_API_KEY\")\n",
    "client = Anthropic(api_key = key)"
   ]
  },
  {
   "cell_type": "markdown",
   "id": "485d1ce3",
   "metadata": {},
   "source": [
    "### Get Responses"
   ]
  },
  {
   "cell_type": "code",
   "execution_count": 83,
   "id": "42956e30",
   "metadata": {},
   "outputs": [],
   "source": [
    "def save_claude_batch_jsonl(batch_id, model_name, dataset_name):\n",
    "    folder_name = os.path.join(\"Raw Results\", \"Claude\", model_name.replace(\".\", \"-\"))\n",
    "    os.makedirs(folder_name, exist_ok=True)\n",
    "\n",
    "    save_path = os.path.join(folder_name, f\"{dataset_name}_{model_name}.jsonl\")\n",
    "\n",
    "    with open(save_path, \"w\", encoding=\"utf-8\") as f:\n",
    "        for result in client.messages.batches.results(batch_id):\n",
    "            # Convert object to dict so it’s JSON serializable\n",
    "            result_dict = result.model_dump()  # anthropic SDK uses Pydantic-like models\n",
    "            f.write(json.dumps(result_dict) + \"\\n\")\n",
    "\n",
    "    print(f\"✅ Saved Claude batch results to {save_path}\")"
   ]
  },
  {
   "cell_type": "code",
   "execution_count": 90,
   "id": "27db69f3",
   "metadata": {},
   "outputs": [
    {
     "name": "stdout",
     "output_type": "stream",
     "text": [
      "boolq_valid:\n",
      "    claude-3-haiku-20240307:   msgbatch_01Eik9sN8Ek6cBd9haYdQoD9\n",
      "✅ Saved Claude batch results to Raw Results\\Claude\\claude-3-haiku-20240307\\boolq_valid_claude-3-haiku-20240307.jsonl\n",
      "    claude-3-7-sonnet-20250219:   msgbatch_01G2yAtxwzZ22CiE7XmZTvQR\n",
      "✅ Saved Claude batch results to Raw Results\\Claude\\claude-3-7-sonnet-20250219\\boolq_valid_claude-3-7-sonnet-20250219.jsonl\n",
      "    claude-sonnet-4-20250514:   msgbatch_01UdsJtGrwuHrV9xv7kUPwVo\n",
      "✅ Saved Claude batch results to Raw Results\\Claude\\claude-sonnet-4-20250514\\boolq_valid_claude-sonnet-4-20250514.jsonl\n",
      "\n",
      "lsat_ar_test:\n",
      "    claude-3-7-sonnet-20250219:   msgbatch_01NQkyt5AQQnoRgJu1KSY15c\n",
      "✅ Saved Claude batch results to Raw Results\\Claude\\claude-3-7-sonnet-20250219\\lsat_ar_test_claude-3-7-sonnet-20250219.jsonl\n",
      "    claude-3-haiku-20240307:   msgbatch_011VWy4skZeUZ5o3HcLG7hTJ\n",
      "✅ Saved Claude batch results to Raw Results\\Claude\\claude-3-haiku-20240307\\lsat_ar_test_claude-3-haiku-20240307.jsonl\n",
      "    claude-sonnet-4-20250514:   msgbatch_011hrweiFXefuyE2sAaLSqES\n",
      "✅ Saved Claude batch results to Raw Results\\Claude\\claude-sonnet-4-20250514\\lsat_ar_test_claude-sonnet-4-20250514.jsonl\n",
      "\n",
      "sciq_test:\n",
      "    claude-3-7-sonnet-20250219:   msgbatch_01JxY2FQnejAZ25uEqnPrUHu\n",
      "✅ Saved Claude batch results to Raw Results\\Claude\\claude-3-7-sonnet-20250219\\sciq_test_claude-3-7-sonnet-20250219.jsonl\n",
      "    claude-3-haiku-20240307:   msgbatch_01NjTgZ6RktkRuwUfASQxUqB\n",
      "✅ Saved Claude batch results to Raw Results\\Claude\\claude-3-haiku-20240307\\sciq_test_claude-3-haiku-20240307.jsonl\n",
      "    claude-sonnet-4-20250514:   msgbatch_012aQftPouoYqkkJokKXxczu\n",
      "✅ Saved Claude batch results to Raw Results\\Claude\\claude-sonnet-4-20250514\\sciq_test_claude-sonnet-4-20250514.jsonl\n",
      "\n",
      "life_eval:\n",
      "    claude-3-7-sonnet-20250219:   msgbatch_018RohB3NVJJRP19eTrj2cyg\n",
      "✅ Saved Claude batch results to Raw Results\\Claude\\claude-3-7-sonnet-20250219\\life_eval_claude-3-7-sonnet-20250219.jsonl\n",
      "    claude-3-haiku-20240307:   msgbatch_01JMcJ9u75p5VJ2kfUk7eufo\n",
      "✅ Saved Claude batch results to Raw Results\\Claude\\claude-3-haiku-20240307\\life_eval_claude-3-haiku-20240307.jsonl\n",
      "    claude-sonnet-4-20250514:   msgbatch_01CExU5rYMouBp8gzZ3AKJny\n",
      "✅ Saved Claude batch results to Raw Results\\Claude\\claude-sonnet-4-20250514\\life_eval_claude-sonnet-4-20250514.jsonl\n",
      "\n",
      "halu_eval_qa:\n",
      "    claude-3-7-sonnet-20250219:   msgbatch_01BhmRHTURbc2AYzNQzHp2LF\n",
      "✅ Saved Claude batch results to Raw Results\\Claude\\claude-3-7-sonnet-20250219\\halu_eval_qa_claude-3-7-sonnet-20250219.jsonl\n",
      "    claude-3-haiku-20240307:   msgbatch_014vkQHRi4wTjZjwCvByVmtc\n",
      "✅ Saved Claude batch results to Raw Results\\Claude\\claude-3-haiku-20240307\\halu_eval_qa_claude-3-haiku-20240307.jsonl\n",
      "    claude-sonnet-4-20250514:   msgbatch_011swsRcuZvpPsVTpEVs9MFu\n",
      "✅ Saved Claude batch results to Raw Results\\Claude\\claude-sonnet-4-20250514\\halu_eval_qa_claude-sonnet-4-20250514.jsonl\n",
      "\n",
      "sat_en:\n",
      "    claude-3-7-sonnet-20250219:   msgbatch_01FVY5cCfTNFCRaKBTwf2KNi\n",
      "✅ Saved Claude batch results to Raw Results\\Claude\\claude-3-7-sonnet-20250219\\sat_en_claude-3-7-sonnet-20250219.jsonl\n",
      "    claude-3-haiku-20240307:   msgbatch_01WxyNHCFoyMJCuHDfWbionm\n",
      "✅ Saved Claude batch results to Raw Results\\Claude\\claude-3-haiku-20240307\\sat_en_claude-3-haiku-20240307.jsonl\n",
      "    claude-sonnet-4-20250514:   msgbatch_01H4PhaVVvyZSPBXPME9wPuz\n",
      "✅ Saved Claude batch results to Raw Results\\Claude\\claude-sonnet-4-20250514\\sat_en_claude-sonnet-4-20250514.jsonl\n",
      "\n"
     ]
    }
   ],
   "source": [
    "claude_models = ['claude-3-haiku-20240307', 'claude-3-7-sonnet-20250219', \"claude-sonnet-4-20250514\"]\n",
    "\n",
    "for dataset_name, dataset_info in metadata.items():\n",
    "\n",
    "    model_info = dataset_info['models']\n",
    "    print(f\"{dataset_name}:\")\n",
    "    \n",
    "    for model_name, model_data in model_info.items():\n",
    "\n",
    "        if model_name in claude_models:\n",
    "\n",
    "            batch_id = model_data['batch_id']\n",
    "            print(f'    {model_name}:   {batch_id}')\n",
    "            save_claude_batch_jsonl(batch_id, model_name, dataset_name)\n",
    "            key = f\"{dataset_name}_{model_name}.jsonl\"\n",
    "            model_info[model_name]['output_filename'] = key\n",
    "    print()"
   ]
  },
  {
   "cell_type": "code",
   "execution_count": 91,
   "id": "54d3c313",
   "metadata": {},
   "outputs": [],
   "source": [
    "## Update results_metadata.json\n",
    "with open(file_path, \"w\", encoding=\"utf-8\") as f:\n",
    "    json.dump(metadata, f, indent=2, ensure_ascii=False)"
   ]
  },
  {
   "cell_type": "markdown",
   "id": "01f0f1ca",
   "metadata": {},
   "source": [
    "## Deepseek"
   ]
  },
  {
   "cell_type": "markdown",
   "id": "6fb89652",
   "metadata": {},
   "source": [
    "# Parse Results"
   ]
  },
  {
   "cell_type": "markdown",
   "id": "ad2c85a7",
   "metadata": {},
   "source": [
    "## GPT"
   ]
  },
  {
   "cell_type": "code",
   "execution_count": null,
   "id": "49016282",
   "metadata": {},
   "outputs": [],
   "source": []
  }
 ],
 "metadata": {
  "kernelspec": {
   "display_name": "base",
   "language": "python",
   "name": "python3"
  },
  "language_info": {
   "codemirror_mode": {
    "name": "ipython",
    "version": 3
   },
   "file_extension": ".py",
   "mimetype": "text/x-python",
   "name": "python",
   "nbconvert_exporter": "python",
   "pygments_lexer": "ipython3",
   "version": "3.11.7"
  }
 },
 "nbformat": 4,
 "nbformat_minor": 5
}
