{
 "cells": [
  {
   "cell_type": "markdown",
   "id": "c2436248",
   "metadata": {},
   "source": [
    "# Comparing Calibration Data Across All Models / Question Sets"
   ]
  },
  {
   "cell_type": "code",
   "execution_count": null,
   "id": "9704e429",
   "metadata": {},
   "outputs": [],
   "source": [
    "# Initialize\n",
    "import pandas as pd\n",
    "import numpy as np\n",
    "import matplotlib as plt\n",
    "import seaborn as sns\n",
    "\n"
   ]
  },
  {
   "cell_type": "markdown",
   "id": "ed2f7b78",
   "metadata": {},
   "source": [
    "## Combine All Results Into Composite CSV"
   ]
  },
  {
   "cell_type": "code",
   "execution_count": null,
   "id": "009288cc",
   "metadata": {},
   "outputs": [],
   "source": []
  }
 ],
 "metadata": {
  "kernelspec": {
   "display_name": ".venv (3.12.10)",
   "language": "python",
   "name": "python3"
  },
  "language_info": {
   "name": "python",
   "version": "3.12.10"
  }
 },
 "nbformat": 4,
 "nbformat_minor": 5
}
